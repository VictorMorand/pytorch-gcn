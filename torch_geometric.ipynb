{
 "cells": [
  {
   "cell_type": "code",
   "execution_count": 3,
   "metadata": {},
   "outputs": [],
   "source": [
    "from torch_geometric.datasets import QM9\n",
    "from torch_geometric.loader import DataLoader\n",
    "import torch\n",
    "import matplotlib.pyplot as plt\n",
    "from torch.nn import Linear, ReLU\n",
    "from torch_geometric.nn import Sequential, GCNConv\n",
    "import torch.nn as nn\n",
    "device = torch.device('cuda' if torch.cuda.is_available() else 'cpu')"
   ]
  },
  {
   "cell_type": "code",
   "execution_count": 11,
   "metadata": {},
   "outputs": [],
   "source": [
    "dataset = QM9(root='./raw/qm9')\n",
    "batch_size = 64"
   ]
  },
  {
   "cell_type": "code",
   "execution_count": 12,
   "metadata": {},
   "outputs": [],
   "source": [
    "from torch.utils.data import random_split\n",
    "dataloader1 = DataLoader(dataset, batch_size=64, shuffle=True)\n",
    "dataloader2 = DataLoader(dataset, batch_size=128, shuffle=True)\n",
    "# Define the sizes of train, test, and validation sets\n",
    "train_size = int(0.7 * len(dataset))\n",
    "test_size = int(0.2 * len(dataset))\n",
    "val_size = len(dataset) - train_size - test_size\n",
    "\n",
    "# Split the dataset into train, test, and validation sets\n",
    "train_dataset, test_dataset, val_dataset = random_split(dataset, [train_size, test_size, val_size])\n",
    "\n",
    "# Create dataloaders for train, test, and validation sets\n",
    "train_loader = DataLoader(train_dataset, batch_size=batch_size, shuffle=True)\n",
    "test_loader = DataLoader(test_dataset, batch_size=batch_size, shuffle=False)\n",
    "val_loader = DataLoader(val_dataset, batch_size=batch_size, shuffle=False)\n"
   ]
  },
  {
   "cell_type": "code",
   "execution_count": 13,
   "metadata": {},
   "outputs": [],
   "source": [
    "#maximum absolute value of each y in the dataset\n",
    "y_norm = torch.tensor([2.9556e+01, 1.9662e+02, 1.1663e+01, 5.2654e+00, 1.6928e+01, 3.3748e+03,\n",
    "        7.4544e+00, 1.9444e+04, 1.9444e+04, 1.9444e+04, 1.9445e+04, 4.6969e+01,\n",
    "        1.1311e+02, 1.1389e+02, 1.1461e+02, 1.0482e+02, 6.1987e+05, 4.3790e+02,\n",
    "        2.8295e+02]).to(device)"
   ]
  },
  {
   "cell_type": "code",
   "execution_count": 14,
   "metadata": {},
   "outputs": [],
   "source": [
    "in_channels = dataset.num_features\n",
    "out_channels = dataset.num_classes"
   ]
  },
  {
   "cell_type": "code",
   "execution_count": 15,
   "metadata": {},
   "outputs": [],
   "source": [
    "#A simple model that uses 2 GCN layers and ReLU activation\n",
    "model = Sequential('x, edge_index', [\n",
    "    (GCNConv(in_channels, 64), 'x, edge_index -> x'),\n",
    "    ReLU(inplace=True),\n",
    "    (GCNConv(64, 64), 'x, edge_index -> x'),\n",
    "    ReLU(inplace=True),\n",
    "    Linear(64, out_channels),\n",
    "])\n",
    "model = model.to(device)"
   ]
  },
  {
   "cell_type": "code",
   "execution_count": 17,
   "metadata": {},
   "outputs": [],
   "source": [
    "def compute_loss_loader(loader, model):\n",
    "    loss = torch.nn.L1Loss()\n",
    "    with torch.no_grad():\n",
    "        li_loss = []\n",
    "        for data in loader:\n",
    "            data = data.to(device)\n",
    "            y_hat = model(data.x, data.edge_index)\n",
    "            # normalization\n",
    "            y = data.y / y_norm\n",
    "            idx = data.batch.to(device)\n",
    "            idx = idx.unsqueeze(1).repeat(1, y_hat.size(1))\n",
    "            out = torch.zeros(torch.max(idx)+1, y_hat.size(1), device=device)\n",
    "            out = out.scatter_add_(0, idx, y_hat)\n",
    "            count = torch.zeros(torch.max(idx)+1, y_hat.size(1),device=device)\n",
    "            count = count.scatter_add_(0, idx, torch.ones_like(y_hat,device=device))\n",
    "            out = torch.div(out, count)\n",
    "            l = loss(out, y)\n",
    "            li_loss.append(l.item())\n",
    "    return sum(li_loss)/len(li_loss)"
   ]
  },
  {
   "cell_type": "code",
   "execution_count": 18,
   "metadata": {},
   "outputs": [
    {
     "name": "stdout",
     "output_type": "stream",
     "text": [
      "epoch 0 loss 0.035683369416298356\n",
      "epoch 1 loss 0.02988653943192534\n",
      "epoch 2 loss 0.028269670112286305\n",
      "epoch 3 loss 0.026312646743074153\n",
      "epoch 4 loss 0.025609895813452622\n",
      "epoch 5 loss 0.02526445867614801\n",
      "epoch 6 loss 0.025136052347735287\n",
      "epoch 7 loss 0.024900150117623813\n",
      "epoch 8 loss 0.02475501199016656\n",
      "epoch 9 loss 0.02458280397567359\n",
      "epoch 10 loss 0.0243921457906335\n",
      "epoch 11 loss 0.024244205316803324\n",
      "epoch 12 loss 0.024165144485664234\n",
      "epoch 13 loss 0.02414154266296859\n",
      "epoch 14 loss 0.024070819619858207\n",
      "epoch 15 loss 0.024001308647195914\n",
      "epoch 16 loss 0.023983102843717293\n",
      "epoch 17 loss 0.023954276439351774\n",
      "epoch 18 loss 0.023894489112171485\n",
      "epoch 19 loss 0.023866468263434665\n",
      "epoch 20 loss 0.023810851519795916\n",
      "epoch 21 loss 0.0237738581635917\n",
      "epoch 22 loss 0.023708854753141384\n",
      "epoch 23 loss 0.02370798663944943\n",
      "epoch 24 loss 0.023704232668841245\n",
      "epoch 25 loss 0.023648211728601834\n",
      "epoch 26 loss 0.02365917822959163\n",
      "epoch 27 loss 0.02365757621678958\n",
      "epoch 28 loss 0.02362600890080009\n",
      "epoch 29 loss 0.02354878540053849\n",
      "epoch 30 loss 0.023601498065619182\n",
      "epoch 31 loss 0.023598248703935027\n",
      "epoch 32 loss 0.023576492439775845\n",
      "epoch 33 loss 0.023558648456744512\n",
      "epoch 34 loss 0.02346028801988339\n",
      "epoch 35 loss 0.023558293700291093\n",
      "epoch 36 loss 0.02349969473811274\n",
      "epoch 37 loss 0.02346393595378687\n",
      "epoch 38 loss 0.023498670028159453\n",
      "epoch 39 loss 0.023412528315690496\n",
      "epoch 40 loss 0.02347690392881736\n",
      "epoch 41 loss 0.023403221451053245\n",
      "epoch 42 loss 0.023371921075152652\n",
      "epoch 43 loss 0.02334504417169144\n",
      "epoch 44 loss 0.023303706589422386\n",
      "epoch 45 loss 0.023378752571596374\n",
      "epoch 46 loss 0.02325716797082804\n",
      "epoch 47 loss 0.023323117939535343\n",
      "epoch 48 loss 0.023281591044313252\n",
      "epoch 49 loss 0.023206240401859052\n",
      "epoch 50 loss 0.023214730255144363\n",
      "epoch 51 loss 0.023170199228293158\n",
      "epoch 52 loss 0.02317865272680627\n",
      "epoch 53 loss 0.023172987354261987\n",
      "epoch 54 loss 0.023235528950483794\n",
      "epoch 55 loss 0.023130040260449646\n",
      "epoch 56 loss 0.023123579941934678\n",
      "epoch 57 loss 0.02303521314624158\n",
      "epoch 58 loss 0.023046798142393014\n",
      "epoch 59 loss 0.023028387006692415\n",
      "epoch 60 loss 0.0231032214959879\n",
      "epoch 61 loss 0.022974474371198088\n",
      "epoch 62 loss 0.022962765296977106\n",
      "epoch 63 loss 0.022835621352559364\n",
      "epoch 64 loss 0.022836696635085665\n",
      "epoch 65 loss 0.022827624865943613\n",
      "epoch 66 loss 0.022815974415582557\n",
      "epoch 67 loss 0.022999709591810975\n",
      "epoch 68 loss 0.0231132087519667\n",
      "epoch 69 loss 0.023123015710142924\n",
      "epoch 70 loss 0.02317524142433179\n",
      "epoch 71 loss 0.023225039407704613\n",
      "epoch 72 loss 0.023214311437234854\n",
      "epoch 73 loss 0.023195328534555384\n",
      "epoch 74 loss 0.023168472790534807\n",
      "epoch 75 loss 0.023160849977089424\n",
      "epoch 76 loss 0.02314553882960545\n",
      "epoch 77 loss 0.023086796489307965\n",
      "epoch 78 loss 0.023094497148564527\n",
      "epoch 79 loss 0.02306977977324082\n",
      "epoch 80 loss 0.023097901716359757\n",
      "epoch 81 loss 0.02302843033174049\n",
      "epoch 82 loss 0.0229990278350503\n",
      "epoch 83 loss 0.02301954091633953\n",
      "epoch 84 loss 0.0230314328167965\n",
      "epoch 85 loss 0.022936853418122797\n",
      "epoch 86 loss 0.02291766811841689\n",
      "epoch 87 loss 0.022971435657628842\n",
      "epoch 88 loss 0.022929615807764436\n",
      "epoch 89 loss 0.022916760965973493\n",
      "epoch 90 loss 0.022906745418874972\n",
      "epoch 91 loss 0.022919900516200367\n",
      "epoch 92 loss 0.02292631857180454\n",
      "epoch 93 loss 0.022941332430839748\n",
      "epoch 94 loss 0.02293536066162907\n",
      "epoch 95 loss 0.022896720827989943\n",
      "epoch 96 loss 0.022879605247247976\n",
      "epoch 97 loss 0.022843099207045272\n",
      "epoch 98 loss 0.02285464720541493\n",
      "epoch 99 loss 0.02282960143833207\n"
     ]
    }
   ],
   "source": [
    "li_loss_train = []\n",
    "li_loss_test = []\n",
    "loss = torch.nn.L1Loss()\n",
    "optimizer = torch.optim.Adam(model.parameters(), lr=0.01)\n",
    "for epoch in range(100):\n",
    "    model.train()\n",
    "    li_loss_mean = []\n",
    "    for data in train_loader:\n",
    "        data = data.to(device)\n",
    "        optimizer.zero_grad()\n",
    "        y_hat = model(data.x, data.edge_index)\n",
    "        # normalization\n",
    "        y = data.y / y_norm \n",
    "        # computation of the values\n",
    "        idx = data.batch.to(device)\n",
    "        idx = idx.unsqueeze(1).repeat(1, y_hat.size(1))\n",
    "        out = torch.zeros(torch.max(idx)+1, y_hat.size(1), device=device)\n",
    "        out = out.scatter_add_(0, idx, y_hat)\n",
    "        count = torch.zeros(torch.max(idx)+1, y_hat.size(1),device=device)\n",
    "        count = count.scatter_add_(0, idx, torch.ones_like(y_hat,device=device))\n",
    "        out = torch.div(out, count)\n",
    "        l = loss(out, y)\n",
    "        l.backward()\n",
    "        optimizer.step()\n",
    "        li_loss_mean.append(l.item())\n",
    "    li_loss_train.append(sum(li_loss_mean)/len(li_loss_mean))\n",
    "    li_loss_test.append(compute_loss_loader(test_loader, model))\n",
    "    print(f'epoch {epoch} loss {li_loss_train[-1]}')"
   ]
  },
  {
   "cell_type": "code",
   "execution_count": 21,
   "metadata": {},
   "outputs": [
    {
     "data": {
      "image/png": "[encoded data removed]",
      "text/plain": [
       "<Figure size 640x480 with 1 Axes>"
      ]
     },
     "metadata": {},
     "output_type": "display_data"
    }
   ],
   "source": [
    "plt.figure()\n",
    "plt.plot(li_loss_train, label='train')\n",
    "plt.plot(li_loss_test, label='test')\n",
    "plt.xlabel('epoch')\n",
    "plt.ylabel('MAE')\n",
    "plt.legend()\n",
    "plt.show()"
   ]
  },
  {
   "cell_type": "code",
   "execution_count": 22,
   "metadata": {},
   "outputs": [
    {
     "name": "stdout",
     "output_type": "stream",
     "text": [
      "validation loss 0.023188217029702373\n"
     ]
    }
   ],
   "source": [
    "val_loss = compute_loss_loader(val_loader, model)\n",
    "print(f'validation loss {val_loss}')"
   ]
  },
  {
   "cell_type": "code",
   "execution_count": null,
   "metadata": {},
   "outputs": [],
   "source": []
  }
 ],
 "metadata": {
  "kernelspec": {
   "display_name": "base",
   "language": "python",
   "name": "python3"
  },
  "language_info": {
   "codemirror_mode": {
    "name": "ipython",
    "version": 3
   },
   "file_extension": ".py",
   "mimetype": "text/x-python",
   "name": "python",
   "nbconvert_exporter": "python",
   "pygments_lexer": "ipython3",
   "version": "3.11.3"
  }
 },
 "nbformat": 4,
 "nbformat_minor": 2
}
